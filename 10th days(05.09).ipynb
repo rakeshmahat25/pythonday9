{
 "cells": [
  {
   "cell_type": "code",
   "execution_count": 1,
   "id": "7b164cbb",
   "metadata": {},
   "outputs": [],
   "source": [
    "#Temperature of various place of nepal\n"
   ]
  },
  {
   "cell_type": "code",
   "execution_count": 11,
   "id": "d269e00d",
   "metadata": {},
   "outputs": [
    {
     "name": "stdout",
     "output_type": "stream",
     "text": [
      "19.444444444444443\n"
     ]
    }
   ],
   "source": [
    "kathmandu =67\n",
    "Pokhara = 55\n",
    "Birjunj = 33\n",
    "Humla = 22\n",
    "\n",
    "temktm =(kathmandu -32)*5/9\n",
    "print(temktm)\n",
    "\n",
    "# temp ={\"Kathamandu\":67,\"pokhara\":55,\"Birjunj\":33, \"Humla\":22}\n",
    "\n",
    "# for i in temp:\n",
    "#     c =((temp-32)*5/9)\n",
    "#     print(c)"
   ]
  },
  {
   "cell_type": "markdown",
   "id": "6c00af79",
   "metadata": {},
   "source": [
    "# Function \n"
   ]
  },
  {
   "cell_type": "markdown",
   "id": "ba333a44",
   "metadata": {},
   "source": [
    "## keyword function_name(parameter1, Parameter2):\n",
    "    ## statement\n",
    "    ## return Expression"
   ]
  },
  {
   "cell_type": "code",
   "execution_count": 19,
   "id": "67337f9c",
   "metadata": {},
   "outputs": [
    {
     "ename": "SyntaxError",
     "evalue": "invalid syntax (Temp/ipykernel_16588/542716035.py, line 1)",
     "output_type": "error",
     "traceback": [
      "\u001b[1;36m  File \u001b[1;32m\"C:\\Users\\rakes\\AppData\\Local\\Temp/ipykernel_16588/542716035.py\"\u001b[1;36m, line \u001b[1;32m1\u001b[0m\n\u001b[1;33m    def EvenSum(20, 50):\u001b[0m\n\u001b[1;37m                ^\u001b[0m\n\u001b[1;31mSyntaxError\u001b[0m\u001b[1;31m:\u001b[0m invalid syntax\n"
     ]
    }
   ],
   "source": [
    "def EvenSum(20, 50):\n",
    "    total =0\n",
    "    total += total\n",
    "    return total"
   ]
  },
  {
   "cell_type": "code",
   "execution_count": 15,
   "id": "f3adc890",
   "metadata": {},
   "outputs": [],
   "source": [
    "def evenOrOdd(number):\n",
    "    if number %2 ==0:\n",
    "        return \"Even\"\n",
    "    else:\n",
    "        return \"Odd\""
   ]
  },
  {
   "cell_type": "code",
   "execution_count": 16,
   "id": "2feb4d36",
   "metadata": {},
   "outputs": [
    {
     "data": {
      "text/plain": [
       "'Even'"
      ]
     },
     "execution_count": 16,
     "metadata": {},
     "output_type": "execute_result"
    }
   ],
   "source": [
    "evenOrOdd(44)"
   ]
  },
  {
   "cell_type": "code",
   "execution_count": 20,
   "id": "7a837e1a",
   "metadata": {},
   "outputs": [],
   "source": [
    "#return and print difference is you can use the value set on the Return"
   ]
  },
  {
   "cell_type": "code",
   "execution_count": 22,
   "id": "fb545635",
   "metadata": {},
   "outputs": [
    {
     "name": "stdout",
     "output_type": "stream",
     "text": [
      "Enter the age of student:44\n"
     ]
    }
   ],
   "source": [
    "age = int(input(\"Enter the age of student:\"))"
   ]
  },
  {
   "cell_type": "code",
   "execution_count": 6,
   "id": "84c49a43",
   "metadata": {},
   "outputs": [
    {
     "name": "stdout",
     "output_type": "stream",
     "text": [
      "Enter the age of student:22\n",
      "Enter the age of student:112\n",
      "Enter the age of student:23\n",
      "Enter the age of student:445\n",
      "Enter the age of student:45\n",
      "Enter the age of student:66\n",
      "Enter the age of student:45\n",
      "Enter the age of student:445\n",
      "Enter the age of student:44\n",
      "Enter the age of student:55\n"
     ]
    }
   ],
   "source": [
    "list1 =[]\n",
    "for i in range(1,11):\n",
    "    age = int(input(\"Enter the age of student:\"))\n",
    "    list1.append(age)\n",
    "\n",
    "\n",
    "    "
   ]
  },
  {
   "cell_type": "code",
   "execution_count": 7,
   "id": "b0cb19cb",
   "metadata": {},
   "outputs": [
    {
     "name": "stdout",
     "output_type": "stream",
     "text": [
      "[22, 112, 23, 445, 45, 66, 45, 445, 44, 55]\n"
     ]
    }
   ],
   "source": [
    "print(list1)"
   ]
  },
  {
   "cell_type": "code",
   "execution_count": 8,
   "id": "d23b1ad6",
   "metadata": {},
   "outputs": [],
   "source": [
    "def avg(list1):\n",
    "    sum1 =sum(list1)\n",
    "    average = sum1/len(list1)\n",
    "    return average\n",
    "    "
   ]
  },
  {
   "cell_type": "code",
   "execution_count": 9,
   "id": "8bf3c255",
   "metadata": {},
   "outputs": [
    {
     "data": {
      "text/plain": [
       "130.2"
      ]
     },
     "execution_count": 9,
     "metadata": {},
     "output_type": "execute_result"
    }
   ],
   "source": [
    "avg(list1)"
   ]
  },
  {
   "cell_type": "code",
   "execution_count": 10,
   "id": "a76906d4",
   "metadata": {},
   "outputs": [
    {
     "data": {
      "text/plain": [
       "[22, 112, 23, 445, 45, 66, 45, 445, 44, 55]"
      ]
     },
     "execution_count": 10,
     "metadata": {},
     "output_type": "execute_result"
    }
   ],
   "source": [
    "list1"
   ]
  },
  {
   "cell_type": "code",
   "execution_count": 11,
   "id": "dad2f7dc",
   "metadata": {},
   "outputs": [],
   "source": [
    "sum1 = sum(list1)"
   ]
  },
  {
   "cell_type": "code",
   "execution_count": 12,
   "id": "88a53cd6",
   "metadata": {},
   "outputs": [
    {
     "data": {
      "text/plain": [
       "1302"
      ]
     },
     "execution_count": 12,
     "metadata": {},
     "output_type": "execute_result"
    }
   ],
   "source": [
    "sum1"
   ]
  },
  {
   "cell_type": "code",
   "execution_count": 13,
   "id": "2f286fa5",
   "metadata": {},
   "outputs": [],
   "source": [
    "list1.sort()"
   ]
  },
  {
   "cell_type": "code",
   "execution_count": 14,
   "id": "2303b1f8",
   "metadata": {},
   "outputs": [
    {
     "data": {
      "text/plain": [
       "[22, 23, 44, 45, 45, 55, 66, 112, 445, 445]"
      ]
     },
     "execution_count": 14,
     "metadata": {},
     "output_type": "execute_result"
    }
   ],
   "source": [
    "list1"
   ]
  },
  {
   "cell_type": "code",
   "execution_count": 31,
   "id": "0c42a193",
   "metadata": {},
   "outputs": [],
   "source": [
    "def Median(list1):\n",
    "    med = list1[len(list1)//2]\n",
    "    print(med)"
   ]
  },
  {
   "cell_type": "code",
   "execution_count": 32,
   "id": "a2f40282",
   "metadata": {},
   "outputs": [
    {
     "name": "stdout",
     "output_type": "stream",
     "text": [
      "55\n"
     ]
    }
   ],
   "source": [
    "Median(list1)"
   ]
  },
  {
   "cell_type": "code",
   "execution_count": null,
   "id": "a60e8aec",
   "metadata": {},
   "outputs": [],
   "source": [
    "ageList = []\n",
    "for i in range(1, 5):\n",
    "    age = int(input(\"Enter the age: \"))\n",
    "    ageList.append(age)\n",
    "\n",
    "def calcAverage(ages):\n",
    "    total_Students = len(ages)\n",
    "    sum_ages = sum(ages)\n",
    "    # for age in ages:\n",
    "    #     sum_ages = sum_ages + age\n",
    "    avg_age = sum_ages / total_Students\n",
    "    return avg_age\n",
    "\n",
    "calcAverage(ageList)"
   ]
  },
  {
   "cell_type": "code",
   "execution_count": 33,
   "id": "48dc6b7f",
   "metadata": {},
   "outputs": [],
   "source": [
    "## 1.  Create a function that takes a number as its parameter and returns the number multiplied by 5. \n"
   ]
  },
  {
   "cell_type": "code",
   "execution_count": 40,
   "id": "1e3c8b11",
   "metadata": {},
   "outputs": [
    {
     "name": "stdout",
     "output_type": "stream",
     "text": [
      "Enter the number:55\n",
      "The 5 times Multiplied 0f  55 is 275\n"
     ]
    }
   ],
   "source": [
    "a = int(input(\"Enter the number:\"))\n",
    "\n",
    "def Multiplied(a):\n",
    "    b = a*5\n",
    "    return b\n",
    "\n",
    "print(\"The 5 times Multiplied 0f \", a,\"is\", Multiplied(a))"
   ]
  },
  {
   "cell_type": "code",
   "execution_count": 41,
   "id": "c0c0a7e7",
   "metadata": {},
   "outputs": [],
   "source": [
    "## 2. Create a function that takes name of a person as parameter and returns a welcome message to the person."
   ]
  },
  {
   "cell_type": "code",
   "execution_count": 1,
   "id": "e15067a4",
   "metadata": {},
   "outputs": [
    {
     "name": "stdout",
     "output_type": "stream",
     "text": [
      "Enter Name:rama\n",
      "Hello rama , Welcome to Python Class\n"
     ]
    }
   ],
   "source": [
    "name = input(\"Enter Name:\")\n",
    "def welcome(name):\n",
    "    \n",
    "    \n",
    "    return name\n",
    "\n",
    "print(\"Hello\",welcome(name),\", Welcome to Python Class\")"
   ]
  },
  {
   "cell_type": "code",
   "execution_count": null,
   "id": "f808b029",
   "metadata": {},
   "outputs": [],
   "source": [
    "## 3. Create a function that takes three numbers as parameters and returns the largest number."
   ]
  },
  {
   "cell_type": "code",
   "execution_count": null,
   "id": "35df8c7b",
   "metadata": {},
   "outputs": [],
   "source": [
    "number = int(input(\"Number:\"))\n",
    "def maxnumber(number):\n",
    "    for i in number(1,4):\n",
    "        list3 = number.append(number)\n",
    "        "
   ]
  },
  {
   "cell_type": "code",
   "execution_count": 1,
   "id": "590fcc5d",
   "metadata": {},
   "outputs": [
    {
     "name": "stdout",
     "output_type": "stream",
     "text": [
      "Enter the Number: 44\n",
      "Enter the Number: 33\n",
      "Enter the Number: 45\n"
     ]
    }
   ],
   "source": [
    "number2 = []\n",
    "for i in range(0, 3):\n",
    "    number = int(input(\"Enter the Number: \"))\n",
    "    number2.append(number)\n",
    "    \n",
    "def maxnumber(number2):\n",
    "    if number2[0]>number[1]>number[2]:\n",
    "        print(number2[0])\n",
    "        \n",
    "    elif number2[1]>number[0]>number[2]:\n",
    "        print(number2[1])\n",
    "        \n",
    "    else:\n",
    "        print(number2[2])\n",
    "        \n",
    "    return number2"
   ]
  },
  {
   "cell_type": "markdown",
   "id": "15362775",
   "metadata": {},
   "source": [
    "### dir(list)"
   ]
  },
  {
   "cell_type": "code",
   "execution_count": 2,
   "id": "13dddb7a",
   "metadata": {},
   "outputs": [
    {
     "ename": "TypeError",
     "evalue": "'int' object is not subscriptable",
     "output_type": "error",
     "traceback": [
      "\u001b[1;31m---------------------------------------------------------------------------\u001b[0m",
      "\u001b[1;31mTypeError\u001b[0m                                 Traceback (most recent call last)",
      "\u001b[1;32m~\\AppData\\Local\\Temp/ipykernel_19416/2168185103.py\u001b[0m in \u001b[0;36m<module>\u001b[1;34m\u001b[0m\n\u001b[1;32m----> 1\u001b[1;33m \u001b[0mmaxnumber\u001b[0m\u001b[1;33m(\u001b[0m\u001b[0mnumber2\u001b[0m\u001b[1;33m)\u001b[0m\u001b[1;33m\u001b[0m\u001b[1;33m\u001b[0m\u001b[0m\n\u001b[0m",
      "\u001b[1;32m~\\AppData\\Local\\Temp/ipykernel_19416/2736049801.py\u001b[0m in \u001b[0;36mmaxnumber\u001b[1;34m(number2)\u001b[0m\n\u001b[0;32m      5\u001b[0m \u001b[1;33m\u001b[0m\u001b[0m\n\u001b[0;32m      6\u001b[0m \u001b[1;32mdef\u001b[0m \u001b[0mmaxnumber\u001b[0m\u001b[1;33m(\u001b[0m\u001b[0mnumber2\u001b[0m\u001b[1;33m)\u001b[0m\u001b[1;33m:\u001b[0m\u001b[1;33m\u001b[0m\u001b[1;33m\u001b[0m\u001b[0m\n\u001b[1;32m----> 7\u001b[1;33m     \u001b[1;32mif\u001b[0m \u001b[0mnumber2\u001b[0m\u001b[1;33m[\u001b[0m\u001b[1;36m0\u001b[0m\u001b[1;33m]\u001b[0m\u001b[1;33m>\u001b[0m\u001b[0mnumber\u001b[0m\u001b[1;33m[\u001b[0m\u001b[1;36m1\u001b[0m\u001b[1;33m]\u001b[0m\u001b[1;33m>\u001b[0m\u001b[0mnumber\u001b[0m\u001b[1;33m[\u001b[0m\u001b[1;36m2\u001b[0m\u001b[1;33m]\u001b[0m\u001b[1;33m:\u001b[0m\u001b[1;33m\u001b[0m\u001b[1;33m\u001b[0m\u001b[0m\n\u001b[0m\u001b[0;32m      8\u001b[0m         \u001b[0mprint\u001b[0m\u001b[1;33m(\u001b[0m\u001b[0mnumber2\u001b[0m\u001b[1;33m[\u001b[0m\u001b[1;36m0\u001b[0m\u001b[1;33m]\u001b[0m\u001b[1;33m)\u001b[0m\u001b[1;33m\u001b[0m\u001b[1;33m\u001b[0m\u001b[0m\n\u001b[0;32m      9\u001b[0m \u001b[1;33m\u001b[0m\u001b[0m\n",
      "\u001b[1;31mTypeError\u001b[0m: 'int' object is not subscriptable"
     ]
    }
   ],
   "source": [
    "maxnumber(number2)"
   ]
  },
  {
   "cell_type": "code",
   "execution_count": null,
   "id": "2b43ddd2",
   "metadata": {},
   "outputs": [],
   "source": []
  }
 ],
 "metadata": {
  "kernelspec": {
   "display_name": "Python 3 (ipykernel)",
   "language": "python",
   "name": "python3"
  },
  "language_info": {
   "codemirror_mode": {
    "name": "ipython",
    "version": 3
   },
   "file_extension": ".py",
   "mimetype": "text/x-python",
   "name": "python",
   "nbconvert_exporter": "python",
   "pygments_lexer": "ipython3",
   "version": "3.9.7"
  }
 },
 "nbformat": 4,
 "nbformat_minor": 5
}
